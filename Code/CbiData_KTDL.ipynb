{
 "cells": [
  {
   "cell_type": "code",
   "execution_count": 1,
   "id": "a7d761ea-747e-437a-b01c-9f734a60a690",
   "metadata": {},
   "outputs": [],
   "source": [
    "# Khai báo thư viện\n",
    "import pandas as pd"
   ]
  },
  {
   "cell_type": "code",
   "execution_count": 2,
   "id": "5e8d65b7-cf79-4a55-bd8f-844fd5149653",
   "metadata": {},
   "outputs": [],
   "source": [
    "# Đọc dữ liệu từ file CSV\n",
    "df1 = pd.read_csv('H1.csv')\n",
    "df2 = pd.read_csv('H2.csv')\n",
    "\n",
    "#Thêm cột 'hotel' với giá trị 'h1' cho df1, 'h2' cho df2\n",
    "df1['hotel'] = 'h1'\n",
    "df2['hotel'] = 'h2'\n",
    "\n",
    "# Ghi dataaframe đã chỉnh sửa vào file CSV mới\n",
    "df1.to_csv('h1new.csv', index = False)\n",
    "df2.to_csv('h2new.csv', index = False)"
   ]
  },
  {
   "cell_type": "code",
   "execution_count": 4,
   "id": "d74fb5f3-efe5-4e04-ad7f-c09e6dd252c5",
   "metadata": {},
   "outputs": [
    {
     "name": "stdout",
     "output_type": "stream",
     "text": [
      "        IsCanceled  LeadTime  ArrivalDateYear ArrivalDateMonth  \\\n",
      "0                0       342             2015             July   \n",
      "1                0       737             2015             July   \n",
      "2                0         7             2015             July   \n",
      "3                0        13             2015             July   \n",
      "4                0        14             2015             July   \n",
      "...            ...       ...              ...              ...   \n",
      "119385           0        23             2017           August   \n",
      "119386           0       102             2017           August   \n",
      "119387           0        34             2017           August   \n",
      "119388           0       109             2017           August   \n",
      "119389           0       205             2017           August   \n",
      "\n",
      "        ArrivalDateWeekNumber  ArrivalDateDayOfMonth  StaysInWeekendNights  \\\n",
      "0                          27                      1                     0   \n",
      "1                          27                      1                     0   \n",
      "2                          27                      1                     0   \n",
      "3                          27                      1                     0   \n",
      "4                          27                      1                     0   \n",
      "...                       ...                    ...                   ...   \n",
      "119385                     35                     30                     2   \n",
      "119386                     35                     31                     2   \n",
      "119387                     35                     31                     2   \n",
      "119388                     35                     31                     2   \n",
      "119389                     35                     29                     2   \n",
      "\n",
      "        StaysInWeekNights  Adults  Children  ...        Agent      Company  \\\n",
      "0                       0       2       0.0  ...         NULL         NULL   \n",
      "1                       0       2       0.0  ...         NULL         NULL   \n",
      "2                       1       1       0.0  ...         NULL         NULL   \n",
      "3                       1       1       0.0  ...          304         NULL   \n",
      "4                       2       2       0.0  ...          240         NULL   \n",
      "...                   ...     ...       ...  ...          ...          ...   \n",
      "119385                  5       2       0.0  ...          394         NULL   \n",
      "119386                  5       3       0.0  ...            9         NULL   \n",
      "119387                  5       2       0.0  ...            9         NULL   \n",
      "119388                  5       2       0.0  ...           89         NULL   \n",
      "119389                  7       2       0.0  ...            9         NULL   \n",
      "\n",
      "       DaysInWaitingList CustomerType     ADR  RequiredCarParkingSpaces  \\\n",
      "0                      0    Transient    0.00                         0   \n",
      "1                      0    Transient    0.00                         0   \n",
      "2                      0    Transient   75.00                         0   \n",
      "3                      0    Transient   75.00                         0   \n",
      "4                      0    Transient   98.00                         0   \n",
      "...                  ...          ...     ...                       ...   \n",
      "119385                 0    Transient   96.14                         0   \n",
      "119386                 0    Transient  225.43                         0   \n",
      "119387                 0    Transient  157.71                         0   \n",
      "119388                 0    Transient  104.40                         0   \n",
      "119389                 0    Transient  151.20                         0   \n",
      "\n",
      "        TotalOfSpecialRequests  ReservationStatus ReservationStatusDate hotel  \n",
      "0                            0          Check-Out              7/1/2015    h1  \n",
      "1                            0          Check-Out              7/1/2015    h1  \n",
      "2                            0          Check-Out              7/2/2015    h1  \n",
      "3                            0          Check-Out              7/2/2015    h1  \n",
      "4                            1          Check-Out              7/3/2015    h1  \n",
      "...                        ...                ...                   ...   ...  \n",
      "119385                       0          Check-Out              9/6/2017    h2  \n",
      "119386                       2          Check-Out              9/7/2017    h2  \n",
      "119387                       4          Check-Out              9/7/2017    h2  \n",
      "119388                       0          Check-Out              9/7/2017    h2  \n",
      "119389                       2          Check-Out              9/7/2017    h2  \n",
      "\n",
      "[119390 rows x 32 columns]\n"
     ]
    }
   ],
   "source": [
    "# Đọc lại dữ liệu từ 2 file CSV vừa xuất trên\n",
    "df1 = pd.read_csv('h1new.csv')\n",
    "df2 = pd.read_csv('h2new.csv')\n",
    "\n",
    "#Gộp 2 dataframe thành 1 dataframe mới\n",
    "df_merged = pd.concat([df1, df2], ignore_index = True)\n",
    "\n",
    "# Ghi dataframe mới vào file csv\n",
    "df_merged.to_csv('hotel.csv', index = False)\n",
    "\n",
    "# In thông tin của dataframe mới\n",
    "print(df_merged)"
   ]
  },
  {
   "cell_type": "code",
   "execution_count": null,
   "id": "a42ae98a-5cc2-4622-bfaf-5b18d2e01f14",
   "metadata": {},
   "outputs": [],
   "source": []
  }
 ],
 "metadata": {
  "kernelspec": {
   "display_name": "Python 3 (ipykernel)",
   "language": "python",
   "name": "python3"
  },
  "language_info": {
   "codemirror_mode": {
    "name": "ipython",
    "version": 3
   },
   "file_extension": ".py",
   "mimetype": "text/x-python",
   "name": "python",
   "nbconvert_exporter": "python",
   "pygments_lexer": "ipython3",
   "version": "3.12.2"
  }
 },
 "nbformat": 4,
 "nbformat_minor": 5
}
